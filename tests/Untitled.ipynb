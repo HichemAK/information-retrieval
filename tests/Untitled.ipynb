{
 "cells": [
  {
   "cell_type": "code",
   "execution_count": 1,
   "metadata": {},
   "outputs": [],
   "source": [
    "import sys\n",
    "sys.path.insert(0, '../')\n",
    "from models.evaluator import Evaluator\n",
    "from models.vector_space_model import VectorSpaceModel, SimilarityFunctions\n",
    "from models.boolean_model import BooleanModel\n",
    "from utils import read_cacm, preprocess_cacm, read_cacm_query\n",
    "import numpy as np\n",
    "\n",
    "import pprint"
   ]
  },
  {
   "cell_type": "code",
   "execution_count": 2,
   "metadata": {},
   "outputs": [],
   "source": [
    "dictionary = read_cacm('../CACM/cacm.all')\n",
    "dictionary = preprocess_cacm(dictionary)\n",
    "query_dict, qrels_dict = read_cacm_query('../CACM/query.text', '../CACM/qrels.text')\n",
    "\n",
    "vm = VectorSpaceModel(dictionary, sparse=True)\n",
    "\n",
    "evaluator = Evaluator(vm, query_dict, qrels_dict)"
   ]
  },
  {
   "cell_type": "code",
   "execution_count": 3,
   "metadata": {},
   "outputs": [],
   "source": [
    "performances = evaluator.precision_recall_range('f', np.arange(0.01, 1.001, 0.02), \n",
    "                                                sims=[SimilarityFunctions.COSINUS, SimilarityFunctions.DICE, \n",
    "                                                      SimilarityFunctions.JACCARD])"
   ]
  },
  {
   "cell_type": "code",
   "execution_count": 4,
   "metadata": {},
   "outputs": [],
   "source": [
    "import seaborn as sns\n",
    "import pandas as pd"
   ]
  },
  {
   "cell_type": "code",
   "execution_count": 5,
   "metadata": {},
   "outputs": [],
   "source": [
    "d = [(i,x,y,z) for x, d1 in performances.items() for y, d2 in d1.items() for i,z in enumerate(d2, start=1)]"
   ]
  },
  {
   "cell_type": "code",
   "execution_count": 6,
   "metadata": {},
   "outputs": [],
   "source": [
    "df = pd.DataFrame(data=d, columns=['k', 'Similarity', 'Measure', 'Value'])\n",
    "# in case of\n",
    "df['k'] = df['k']*0.01 + 0.02"
   ]
  },
  {
   "cell_type": "code",
   "execution_count": 7,
   "metadata": {},
   "outputs": [],
   "source": [
    "df2 = df[df['Measure'] == 'f1_score'].drop(columns='Measure')\n",
    "df2\n",
    "df2['Similarity'] = df2['Similarity'].apply(lambda x : str(x).split('.')[1])"
   ]
  },
  {
   "cell_type": "code",
   "execution_count": 8,
   "metadata": {},
   "outputs": [
    {
     "data": {
      "text/html": [
       "<div>\n",
       "<style scoped>\n",
       "    .dataframe tbody tr th:only-of-type {\n",
       "        vertical-align: middle;\n",
       "    }\n",
       "\n",
       "    .dataframe tbody tr th {\n",
       "        vertical-align: top;\n",
       "    }\n",
       "\n",
       "    .dataframe thead th {\n",
       "        text-align: right;\n",
       "    }\n",
       "</style>\n",
       "<table border=\"1\" class=\"dataframe\">\n",
       "  <thead>\n",
       "    <tr style=\"text-align: right;\">\n",
       "      <th></th>\n",
       "      <th>k</th>\n",
       "      <th>Similarity</th>\n",
       "      <th>Value</th>\n",
       "    </tr>\n",
       "  </thead>\n",
       "  <tbody>\n",
       "    <tr>\n",
       "      <th>105</th>\n",
       "      <td>0.08</td>\n",
       "      <td>COSINUS</td>\n",
       "      <td>0.255706</td>\n",
       "    </tr>\n",
       "    <tr>\n",
       "      <th>253</th>\n",
       "      <td>0.06</td>\n",
       "      <td>DICE</td>\n",
       "      <td>0.222123</td>\n",
       "    </tr>\n",
       "    <tr>\n",
       "      <th>401</th>\n",
       "      <td>0.04</td>\n",
       "      <td>JACCARD</td>\n",
       "      <td>0.210836</td>\n",
       "    </tr>\n",
       "  </tbody>\n",
       "</table>\n",
       "</div>"
      ],
      "text/plain": [
       "        k Similarity     Value\n",
       "105  0.08    COSINUS  0.255706\n",
       "253  0.06       DICE  0.222123\n",
       "401  0.04    JACCARD  0.210836"
      ]
     },
     "execution_count": 8,
     "metadata": {},
     "output_type": "execute_result"
    }
   ],
   "source": [
    "# Sparse\n",
    "max_id = [group[1]['Value'].idxmax() for group in df2.groupby('Similarity')]\n",
    "df2.loc[max_id]"
   ]
  },
  {
   "cell_type": "code",
   "execution_count": 9,
   "metadata": {},
   "outputs": [
    {
     "data": {
      "image/png": "[encoded data removed]",
      "text/plain": [
       "<Figure size 432x288 with 1 Axes>"
      ]
     },
     "metadata": {
      "needs_background": "light"
     },
     "output_type": "display_data"
    }
   ],
   "source": [
    "# Sparse\n",
    "df2.columns = ['f', 'Similarity', 'F1-Score']\n",
    "f = sns.lineplot(x='f', y='F1-Score', hue='Similarity', data=df2)\n",
    "f.get_figure().savefig('f_dice_jaccard_cos.png', dpi=300)"
   ]
  },
  {
   "cell_type": "code",
   "execution_count": 36,
   "metadata": {},
   "outputs": [
    {
     "data": {
      "text/html": [
       "<div>\n",
       "<style scoped>\n",
       "    .dataframe tbody tr th:only-of-type {\n",
       "        vertical-align: middle;\n",
       "    }\n",
       "\n",
       "    .dataframe tbody tr th {\n",
       "        vertical-align: top;\n",
       "    }\n",
       "\n",
       "    .dataframe thead th {\n",
       "        text-align: right;\n",
       "    }\n",
       "</style>\n",
       "<table border=\"1\" class=\"dataframe\">\n",
       "  <thead>\n",
       "    <tr style=\"text-align: right;\">\n",
       "      <th></th>\n",
       "      <th>k</th>\n",
       "      <th>Similarity</th>\n",
       "      <th>Value</th>\n",
       "    </tr>\n",
       "  </thead>\n",
       "  <tbody>\n",
       "    <tr>\n",
       "      <th>215</th>\n",
       "      <td>0.17</td>\n",
       "      <td>COSINUS</td>\n",
       "      <td>0.251781</td>\n",
       "    </tr>\n",
       "    <tr>\n",
       "      <th>509</th>\n",
       "      <td>0.11</td>\n",
       "      <td>DICE</td>\n",
       "      <td>0.225492</td>\n",
       "    </tr>\n",
       "    <tr>\n",
       "      <th>804</th>\n",
       "      <td>0.06</td>\n",
       "      <td>JACCARD</td>\n",
       "      <td>0.230873</td>\n",
       "    </tr>\n",
       "  </tbody>\n",
       "</table>\n",
       "</div>"
      ],
      "text/plain": [
       "        k Similarity     Value\n",
       "215  0.17    COSINUS  0.251781\n",
       "509  0.11       DICE  0.225492\n",
       "804  0.06    JACCARD  0.230873"
      ]
     },
     "execution_count": 36,
     "metadata": {},
     "output_type": "execute_result"
    }
   ],
   "source": [
    "# Sparse\n",
    "max_id = [group[1]['Value'].idxmax() for group in df2.groupby('Similarity')]\n",
    "df2.loc[max_id]"
   ]
  },
  {
   "cell_type": "code",
   "execution_count": 38,
   "metadata": {},
   "outputs": [
    {
     "data": {
      "image/png": "[encoded data removed]",
      "text/plain": [
       "<Figure size 432x288 with 1 Axes>"
      ]
     },
     "metadata": {
      "needs_background": "light"
     },
     "output_type": "display_data"
    }
   ],
   "source": [
    "# Sparse\n",
    "df2.columns = ['f', 'Similarity', 'F1-Score']\n",
    "f = sns.lineplot(x='f', y='F1-Score', hue='Similarity', data=df2)\n",
    "f.get_figure().savefig('f_dice_jaccard_cos.png', dpi=300)"
   ]
  },
  {
   "cell_type": "code",
   "execution_count": 61,
   "metadata": {},
   "outputs": [
    {
     "data": {
      "text/html": [
       "<div>\n",
       "<style scoped>\n",
       "    .dataframe tbody tr th:only-of-type {\n",
       "        vertical-align: middle;\n",
       "    }\n",
       "\n",
       "    .dataframe tbody tr th {\n",
       "        vertical-align: top;\n",
       "    }\n",
       "\n",
       "    .dataframe thead th {\n",
       "        text-align: right;\n",
       "    }\n",
       "</style>\n",
       "<table border=\"1\" class=\"dataframe\">\n",
       "  <thead>\n",
       "    <tr style=\"text-align: right;\">\n",
       "      <th></th>\n",
       "      <th>k</th>\n",
       "      <th>Similarity</th>\n",
       "      <th>Value</th>\n",
       "    </tr>\n",
       "  </thead>\n",
       "  <tbody>\n",
       "    <tr>\n",
       "      <th>408</th>\n",
       "      <td>9</td>\n",
       "      <td>COSINUS</td>\n",
       "      <td>0.244201</td>\n",
       "    </tr>\n",
       "    <tr>\n",
       "      <th>256</th>\n",
       "      <td>7</td>\n",
       "      <td>DICE</td>\n",
       "      <td>0.215541</td>\n",
       "    </tr>\n",
       "    <tr>\n",
       "      <th>110</th>\n",
       "      <td>11</td>\n",
       "      <td>DOT</td>\n",
       "      <td>0.270077</td>\n",
       "    </tr>\n",
       "    <tr>\n",
       "      <th>556</th>\n",
       "      <td>7</td>\n",
       "      <td>JACCARD</td>\n",
       "      <td>0.215541</td>\n",
       "    </tr>\n",
       "  </tbody>\n",
       "</table>\n",
       "</div>"
      ],
      "text/plain": [
       "      k Similarity     Value\n",
       "408   9    COSINUS  0.244201\n",
       "256   7       DICE  0.215541\n",
       "110  11        DOT  0.270077\n",
       "556   7    JACCARD  0.215541"
      ]
     },
     "execution_count": 61,
     "metadata": {},
     "output_type": "execute_result"
    }
   ],
   "source": [
    "# No sparse\n",
    "max_id = [group[1]['Value'].idxmax() for group in df2.groupby('Similarity')]\n",
    "df2.loc[max_id]"
   ]
  },
  {
   "cell_type": "code",
   "execution_count": 52,
   "metadata": {},
   "outputs": [
    {
     "data": {
      "text/plain": [
       "<matplotlib.axes._subplots.AxesSubplot at 0x177436e38d0>"
      ]
     },
     "execution_count": 52,
     "metadata": {},
     "output_type": "execute_result"
    },
    {
     "data": {
      "image/png": "[encoded data removed]",
      "text/plain": [
       "<Figure size 432x288 with 1 Axes>"
      ]
     },
     "metadata": {
      "needs_background": "light"
     },
     "output_type": "display_data"
    }
   ],
   "source": [
    "# No sparse\n",
    "sns.lineplot(x='k', y='Value', hue='Similarity', data=df2)"
   ]
  },
  {
   "cell_type": "code",
   "execution_count": 25,
   "metadata": {
    "scrolled": true
   },
   "outputs": [
    {
     "data": {
      "text/plain": [
       "<matplotlib.axes._subplots.AxesSubplot at 0x1773e718fd0>"
      ]
     },
     "execution_count": 25,
     "metadata": {},
     "output_type": "execute_result"
    },
    {
     "data": {
      "image/png": "[encoded data removed]",
      "text/plain": [
       "<Figure size 432x288 with 1 Axes>"
      ]
     },
     "metadata": {
      "needs_background": "light"
     },
     "output_type": "display_data"
    }
   ],
   "source": [
    "from models.vector_space_model import SimilarityFunctions\n",
    "sns.lineplot(x='k', y='Value', hue='Similarity', data=df2[df2['Similarity'] == SimilarityFunctions.DICE])"
   ]
  },
  {
   "cell_type": "markdown",
   "metadata": {},
   "source": [
    "# Temps d'exécution (Modèle booléen)"
   ]
  },
  {
   "cell_type": "code",
   "execution_count": 3,
   "metadata": {},
   "outputs": [],
   "source": [
    "dictionary = read_cacm('../CACM/cacm.all')\n",
    "dictionary = preprocess_cacm(dictionary)\n",
    "query_dict, qrels_dict = read_cacm_query('../CACM/query.text', '../CACM/qrels.text')\n",
    "\n",
    "vm = VectorSpaceModel(dictionary)"
   ]
  },
  {
   "cell_type": "code",
   "execution_count": 5,
   "metadata": {},
   "outputs": [],
   "source": [
    "bm = BooleanModel(dictionary)"
   ]
  },
  {
   "cell_type": "code",
   "execution_count": 9,
   "metadata": {},
   "outputs": [],
   "source": [
    "import random\n",
    "from timeit import default_timer as timer"
   ]
  },
  {
   "cell_type": "code",
   "execution_count": 9,
   "metadata": {},
   "outputs": [],
   "source": [
    "l = \"\"\n",
    "l.index()"
   ]
  },
  {
   "cell_type": "code",
   "execution_count": 53,
   "metadata": {},
   "outputs": [],
   "source": [
    "n = 100000\n",
    "num_max_token = 100\n",
    "length_time = []\n",
    "list_tokens = list(bm._dict.keys())\n",
    "c = 0\n",
    "operators = ['and', 'or']\n",
    "for _ in range(n):\n",
    "    length = (c%num_max_token)+1\n",
    "    l = random.sample(list_tokens, length)\n",
    "    l = ''.join([\"'\" + x + \"' \" + random.choice(operators) + \" \" for x in l])\n",
    "    l = l[:l.rindex(\"'\")+1]\n",
    "    t1 = timer()\n",
    "    x = bm.eval(l)\n",
    "    t2 = timer()\n",
    "    length_time.append((length, (t2-t1)))\n",
    "    c += 1"
   ]
  },
  {
   "cell_type": "code",
   "execution_count": null,
   "metadata": {},
   "outputs": [],
   "source": [
    "length_time[1000:1100]"
   ]
  },
  {
   "cell_type": "code",
   "execution_count": 28,
   "metadata": {},
   "outputs": [],
   "source": [
    "import pandas as pd"
   ]
  },
  {
   "cell_type": "code",
   "execution_count": 29,
   "metadata": {},
   "outputs": [],
   "source": [
    "df = pd.DataFrame(data=length_time, columns=['Nombre de tokens', \"Temps d'exécution (sec)\"])"
   ]
  },
  {
   "cell_type": "code",
   "execution_count": 30,
   "metadata": {},
   "outputs": [],
   "source": [
    "df2 = df.groupby('Nombre de tokens').mean().reset_index()"
   ]
  },
  {
   "cell_type": "code",
   "execution_count": 31,
   "metadata": {},
   "outputs": [],
   "source": [
    "import matplotlib.pyplot as plt\n",
    "import numpy as np"
   ]
  },
  {
   "cell_type": "code",
   "execution_count": 36,
   "metadata": {},
   "outputs": [
    {
     "data": {
      "text/plain": [
       "Nombre de tokens           100.000000\n",
       "Temps d'exécution (sec)      0.164669\n",
       "Name: 99, dtype: float64"
      ]
     },
     "execution_count": 36,
     "metadata": {},
     "output_type": "execute_result"
    }
   ],
   "source": [
    "df2.iloc[99]"
   ]
  },
  {
   "cell_type": "code",
   "execution_count": 32,
   "metadata": {},
   "outputs": [
    {
     "data": {
      "image/png": "[encoded data removed]",
      "text/plain": [
       "<Figure size 504x288 with 1 Axes>"
      ]
     },
     "metadata": {
      "needs_background": "light"
     },
     "output_type": "display_data"
    }
   ],
   "source": [
    "plt.figure(figsize=(7, 4))\n",
    "f = sns.lineplot(x='Nombre de tokens', y=\"Temps d'exécution (sec)\", data=df2)"
   ]
  },
  {
   "cell_type": "code",
   "execution_count": 33,
   "metadata": {},
   "outputs": [],
   "source": [
    "f.get_figure().savefig('exec_time_vector.png', dpi=300)"
   ]
  },
  {
   "cell_type": "markdown",
   "metadata": {},
   "source": [
    "# Temps d'exécution (Modèle vectoriel)"
   ]
  },
  {
   "cell_type": "code",
   "execution_count": 47,
   "metadata": {},
   "outputs": [],
   "source": [
    "vm = VectorSpaceModel(dictionary, sparse=False)"
   ]
  },
  {
   "cell_type": "code",
   "execution_count": 27,
   "metadata": {},
   "outputs": [],
   "source": [
    "n = 10000\n",
    "num_max_token = 200\n",
    "length_time = []\n",
    "list_tokens = list(vm._dict.dict.keys())\n",
    "c = 0\n",
    "for i in range(n):\n",
    "    length = (c%num_max_token)+1\n",
    "    l = ' '.join(random.sample(list_tokens, length))\n",
    "    t1 = timer()\n",
    "    x = vm.eval(l)\n",
    "    t2 = timer()\n",
    "    length_time.append((length, (t2-t1)))\n",
    "    c += 1"
   ]
  },
  {
   "cell_type": "code",
   "execution_count": 48,
   "metadata": {},
   "outputs": [],
   "source": [
    "length_time = []"
   ]
  },
  {
   "cell_type": "code",
   "execution_count": 49,
   "metadata": {},
   "outputs": [],
   "source": [
    "for _ in range(100):\n",
    "    length = 100\n",
    "    l = ' '.join(random.sample(list_tokens, length))\n",
    "    t1 = timer()\n",
    "    x = vm.eval(l)\n",
    "    t2 = timer()\n",
    "    length_time.append((t2-t1))\n",
    "    c += 1"
   ]
  },
  {
   "cell_type": "code",
   "execution_count": 46,
   "metadata": {},
   "outputs": [
    {
     "data": {
      "text/plain": [
       "0.001115509799996289"
      ]
     },
     "execution_count": 46,
     "metadata": {},
     "output_type": "execute_result"
    }
   ],
   "source": [
    "np.array(length_time).mean()"
   ]
  },
  {
   "cell_type": "code",
   "execution_count": 50,
   "metadata": {},
   "outputs": [
    {
     "data": {
      "text/plain": [
       "0.15157602800000858"
      ]
     },
     "execution_count": 50,
     "metadata": {},
     "output_type": "execute_result"
    }
   ],
   "source": [
    "np.array(length_time).mean()"
   ]
  },
  {
   "cell_type": "markdown",
   "metadata": {},
   "source": [
    "# Tests"
   ]
  },
  {
   "cell_type": "code",
   "execution_count": 3,
   "metadata": {},
   "outputs": [],
   "source": [
    "from models.vector_space_model import SimilarityFunctions\n",
    "import matplotlib.pyplot as plt\n",
    "import numpy as np\n",
    "import pandas as pd\n",
    "import seaborn as sns"
   ]
  },
  {
   "cell_type": "code",
   "execution_count": 4,
   "metadata": {},
   "outputs": [
    {
     "data": {
      "text/plain": [
       "[1410, 1572, 1605, 2020, 2358]"
      ]
     },
     "execution_count": 4,
     "metadata": {},
     "output_type": "execute_result"
    }
   ],
   "source": [
    "qrels_dict[1]"
   ]
  },
  {
   "cell_type": "code",
   "execution_count": 6,
   "metadata": {
    "scrolled": true
   },
   "outputs": [
    {
     "data": {
      "text/plain": [
       "[(1938, 2.0319960525121146),\n",
       " (1752, 2.015211403345941),\n",
       " (2319, 1.9080630021710563),\n",
       " (1605, 1.8466759799298664),\n",
       " (1844, 1.8363193777520337),\n",
       " (2218, 1.7724290346795408),\n",
       " (1657, 1.758434951636525),\n",
       " (1161, 1.7460473611913787),\n",
       " (1506, 1.7305277243665258),\n",
       " (2380, 1.669113795750397),\n",
       " (1572, 1.6669278878726161),\n",
       " (2632, 1.663459975173494),\n",
       " (2796, 1.6355527479034948),\n",
       " (2597, 1.6355527479034948),\n",
       " (1440, 1.6355527479034948),\n",
       " (1163, 1.6355527479034948),\n",
       " (414, 1.6355527479034948),\n",
       " (98, 1.6355527479034948),\n",
       " (2629, 1.586626903870152),\n",
       " (2344, 1.5782211952871177),\n",
       " (2947, 1.5540096745145897),\n",
       " (1769, 1.53949466392991),\n",
       " (2317, 1.538355056469359),\n",
       " (2439, 1.5351320619212054),\n",
       " (1410, 1.5240588766245524),\n",
       " (1908, 1.5128620168469666),\n",
       " (1523, 1.498303588362748),\n",
       " (1069, 1.4968708620543598),\n",
       " (1315, 1.493271221016207),\n",
       " (3127, 1.4932712210162067),\n",
       " (3048, 1.4925685726480746),\n",
       " (2740, 1.4814868768778453),\n",
       " (1236, 1.4429704091214328),\n",
       " (1827, 1.4274705832132115),\n",
       " (1519, 1.4262637844255943),\n",
       " (1046, 1.3993789798342708),\n",
       " (2920, 1.3787762961940788),\n",
       " (2868, 1.3787762961940788),\n",
       " (1680, 1.3787762961940788),\n",
       " (1347, 1.3509896941289186),\n",
       " (271, 1.3509896941289186),\n",
       " (252, 1.3495843973926545),\n",
       " (2151, 1.3472655755165848),\n",
       " (971, 1.3442862806267177),\n",
       " (1071, 1.3420518094593175),\n",
       " (2522, 1.311829172205886),\n",
       " (2371, 1.3039970678212793),\n",
       " (1179, 1.300688882234145),\n",
       " (585, 1.2872527314592799),\n",
       " (1391, 1.280197826323553),\n",
       " (2424, 1.2662442126885534),\n",
       " (1534, 1.2503880703393708),\n",
       " (3023, 1.2503880703393708),\n",
       " (1591, 1.2503880703393708),\n",
       " (1417, 1.2503880703393708),\n",
       " (1195, 1.2503880703393708),\n",
       " (2557, 1.2123078082797836),\n",
       " (2054, 1.205824609378751),\n",
       " (2948, 1.204838214701938),\n",
       " (3068, 1.2029410515158714),\n",
       " (2379, 1.1953645449730672),\n",
       " (1325, 1.1890675936776947),\n",
       " (3025, 1.1764542179364763),\n",
       " (2951, 1.1734760732390688),\n",
       " (2541, 1.1733551348265459),\n",
       " (1542, 1.1733551348265459),\n",
       " (1264, 1.154712680148128),\n",
       " (1647, 1.1543763272971463),\n",
       " (3137, 1.1219998444846628),\n",
       " (2080, 1.1219998444846628),\n",
       " (2370, 1.1219998444846628),\n",
       " (2201, 1.1219998444846628),\n",
       " (1719, 1.1081065434520827),\n",
       " (1712, 1.1081065434520827),\n",
       " (3112, 1.1021869596449907),\n",
       " (1462, 1.0971298166099437),\n",
       " (1697, 1.0955969816792375),\n",
       " (2536, 1.0903684986023299),\n",
       " (1472, 1.0903684986023299),\n",
       " (1544, 1.0885262824905662),\n",
       " (1033, 1.0853174942404604),\n",
       " (2500, 1.0815899450810826),\n",
       " (1960, 1.078736152009808),\n",
       " (1168, 1.0757725492016177),\n",
       " (2357, 1.0578057315573088),\n",
       " (1854, 1.0441412033192847),\n",
       " (3089, 1.0271454932264708),\n",
       " (3072, 1.0271454932264708),\n",
       " (2247, 1.0271454932264708),\n",
       " (2169, 1.0271454932264708),\n",
       " (1304, 1.0271454932264708),\n",
       " (617, 1.0271454932264708),\n",
       " (3174, 1.023421374614137),\n",
       " (2622, 1.0192892638008964),\n",
       " (1393, 1.0192892638008964),\n",
       " (2358, 1.0125858502986955),\n",
       " (2188, 1.0040137645905816),\n",
       " (2378, 1.0003104562714966),\n",
       " (3153, 0.9866649681136648),\n",
       " (1626, 0.9866649681136648),\n",
       " (1307, 0.9866649681136648),\n",
       " (1034, 0.9866649681136648),\n",
       " (2501, 0.9838718791544143),\n",
       " (1885, 0.9752704435078536),\n",
       " (796, 0.9729856212159045),\n",
       " (2867, 0.9638828014618048),\n",
       " (1571, 0.9623766530459812),\n",
       " (1518, 0.9623766530459812),\n",
       " (1173, 0.9623766530459812),\n",
       " (1170, 0.9623766530459812),\n",
       " (972, 0.9623766530459812),\n",
       " (1464, 0.9456808799736011),\n",
       " (103, 0.9030595567780477),\n",
       " (1412, 0.8829415944305963),\n",
       " (2320, 0.8709309789177959),\n",
       " (3169, 0.8652233927752467),\n",
       " (3168, 0.8652233927752467),\n",
       " (3144, 0.8652233927752467),\n",
       " (3090, 0.8652233927752467),\n",
       " (3087, 0.8652233927752467),\n",
       " (3015, 0.8652233927752467),\n",
       " (3012, 0.8652233927752467),\n",
       " (2992, 0.8652233927752467),\n",
       " (2984, 0.8652233927752467),\n",
       " (2965, 0.8652233927752467),\n",
       " (2959, 0.8652233927752467),\n",
       " (2878, 0.8652233927752467),\n",
       " (2875, 0.8652233927752467),\n",
       " (2853, 0.8652233927752467),\n",
       " (2811, 0.8652233927752467),\n",
       " (2786, 0.8652233927752467),\n",
       " (2764, 0.8652233927752467),\n",
       " (2759, 0.8652233927752467),\n",
       " (2747, 0.8652233927752467),\n",
       " (2689, 0.8652233927752467),\n",
       " (2642, 0.8652233927752467),\n",
       " (2577, 0.8652233927752467),\n",
       " (2560, 0.8652233927752467),\n",
       " (2542, 0.8652233927752467),\n",
       " (2470, 0.8652233927752467),\n",
       " (2435, 0.8652233927752467),\n",
       " (2398, 0.8652233927752467),\n",
       " (2311, 0.8652233927752467),\n",
       " (2274, 0.8652233927752467),\n",
       " (2153, 0.8652233927752467),\n",
       " (2105, 0.8652233927752467),\n",
       " (2087, 0.8652233927752467),\n",
       " (2075, 0.8652233927752467),\n",
       " (2070, 0.8652233927752467),\n",
       " (2002, 0.8652233927752467),\n",
       " (1937, 0.8652233927752467),\n",
       " (1880, 0.8652233927752467),\n",
       " (1853, 0.8652233927752467),\n",
       " (1749, 0.8652233927752467),\n",
       " (1682, 0.8652233927752467),\n",
       " (1671, 0.8652233927752467),\n",
       " (1665, 0.8652233927752467),\n",
       " (1617, 0.8652233927752467),\n",
       " (1505, 0.8652233927752467),\n",
       " (1502, 0.8652233927752467),\n",
       " (1484, 0.8652233927752467),\n",
       " (1482, 0.8652233927752467),\n",
       " (1309, 0.8652233927752467),\n",
       " (1238, 0.8652233927752467),\n",
       " (1194, 0.8652233927752467),\n",
       " (1108, 0.8652233927752467),\n",
       " (1083, 0.8652233927752467),\n",
       " (798, 0.8652233927752467),\n",
       " (731, 0.8652233927752467),\n",
       " (656, 0.8652233927752467),\n",
       " (594, 0.8652233927752467),\n",
       " (586, 0.8652233927752467),\n",
       " (439, 0.8652233927752467),\n",
       " (398, 0.8652233927752467),\n",
       " (391, 0.8652233927752467),\n",
       " (334, 0.8652233927752467),\n",
       " (294, 0.8652233927752467),\n",
       " (277, 0.8652233927752467),\n",
       " (275, 0.8652233927752467),\n",
       " (202, 0.8652233927752467),\n",
       " (197, 0.8652233927752467),\n",
       " (190, 0.8652233927752467),\n",
       " (60, 0.8652233927752467),\n",
       " (1226, 0.841499883363497),\n",
       " (2095, 0.8335920468929138),\n",
       " (2526, 0.8318556584637706),\n",
       " (1750, 0.830552921312963),\n",
       " (1753, 0.8298679282805801),\n",
       " (2535, 0.8262022668481785),\n",
       " (46, 0.8189960974922017),\n",
       " (2482, 0.8177763739517474),\n",
       " (2365, 0.8177763739517474),\n",
       " (1755, 0.8177763739517474),\n",
       " (3190, 0.8177763739517474),\n",
       " (1394, 0.8177763739517474),\n",
       " (699, 0.8177763739517474),\n",
       " (2092, 0.8163947118679247),\n",
       " (2219, 0.8113033185021936),\n",
       " (2841, 0.8019805442049842),\n",
       " (2375, 0.7969364224028773),\n",
       " (2917, 0.7958824498506792),\n",
       " (2372, 0.7916150089479514),\n",
       " (1642, 0.7913502444843766),\n",
       " (2308, 0.7727688022091568),\n",
       " (3082, 0.770359119919853),\n",
       " (1461, 0.7703293551282481),\n",
       " (1794, 0.7703293551282481),\n",
       " (1310, 0.7703293551282481),\n",
       " (1209, 0.7703293551282481),\n",
       " (818, 0.7703293551282481),\n",
       " (674, 0.7703293551282481),\n",
       " (234, 0.7703293551282481),\n",
       " (163, 0.7703293551282481),\n",
       " (143, 0.7703293551282481),\n",
       " (118, 0.7703293551282481),\n",
       " (105, 0.7703293551282481),\n",
       " (69, 0.7703293551282481),\n",
       " (61, 0.7703293551282481),\n",
       " (50, 0.7703293551282481),\n",
       " (33, 0.7703293551282481),\n",
       " (31, 0.7703293551282481),\n",
       " (2321, 0.7612119783883955),\n",
       " (1225, 0.7466356105081033),\n",
       " (1774, 0.7387376956347218),\n",
       " (1252, 0.7387376956347218),\n",
       " (1526, 0.735013577022388),\n",
       " (1002, 0.7279468036623759),\n",
       " (2756, 0.7265415069261117),\n",
       " (2685, 0.7265415069261117),\n",
       " (2607, 0.7265415069261117),\n",
       " (2586, 0.7265415069261117),\n",
       " (2495, 0.7265415069261117),\n",
       " (2367, 0.7265415069261117),\n",
       " (2312, 0.7265415069261117),\n",
       " (2303, 0.7265415069261117),\n",
       " (1107, 0.7265415069261117),\n",
       " (1106, 0.7265415069261117),\n",
       " (999, 0.7265415069261117),\n",
       " (975, 0.7265415069261117),\n",
       " (415, 0.7265415069261117),\n",
       " (254, 0.7265415069261117),\n",
       " (198, 0.7265415069261117),\n",
       " (189, 0.7265415069261117),\n",
       " (171, 0.7265415069261117),\n",
       " (166, 0.7265415069261117),\n",
       " (157, 0.7265415069261117),\n",
       " (148, 0.7265415069261117),\n",
       " (135, 0.7265415069261117),\n",
       " (67, 0.7265415069261117),\n",
       " (47, 0.7265415069261117),\n",
       " (6, 0.7265415069261117),\n",
       " (2, 0.7265415069261117),\n",
       " (1590, 0.7229121010963537),\n",
       " (1113, 0.7071063497523888),\n",
       " (3002, 0.7052038210382058),\n",
       " (2928, 0.6921787142201974),\n",
       " (2859, 0.6921787142201974),\n",
       " (2065, 0.6921787142201974),\n",
       " (1533, 0.6921787142201974),\n",
       " (2003, 0.6820901733966833),\n",
       " (1740, 0.6754948470644593),\n",
       " (1181, 0.6754948470644593),\n",
       " (438, 0.6754948470644593),\n",
       " (2681, 0.6731999066907977),\n",
       " (2128, 0.6699086691459586),\n",
       " (2036, 0.6699086691459586),\n",
       " (3080, 0.648917544581435),\n",
       " (2390, 0.648917544581435),\n",
       " (1589, 0.648917544581435),\n",
       " (284, 0.648917544581435),\n",
       " (1698, 0.6454635295209706),\n",
       " (2626, 0.6433313666629343),\n",
       " (2627, 0.6299702001495464),\n",
       " (462, 0.6261364838153549),\n",
       " (3050, 0.6251940351696854),\n",
       " (2668, 0.6251940351696854),\n",
       " (2582, 0.6251940351696854),\n",
       " (1902, 0.6251940351696854),\n",
       " (1877, 0.6251940351696854),\n",
       " (2624, 0.6251940351696854),\n",
       " (1468, 0.6251940351696854),\n",
       " (409, 0.6251940351696854),\n",
       " (3105, 0.6196078572511847),\n",
       " (2667, 0.6162872959358825),\n",
       " (2452, 0.6162872959358825),\n",
       " (1515, 0.6142470731191513),\n",
       " (1677, 0.6140528247684822),\n",
       " (1459, 0.6122519984941968),\n",
       " (1247, 0.6014705257579357),\n",
       " (2083, 0.6014705257579357),\n",
       " (1164, 0.6014705257579357),\n",
       " (1487, 0.5950740172390825),\n",
       " (698, 0.5905235637074017),\n",
       " (637, 0.5896236534478634),\n",
       " (1381, 0.5812332055408894),\n",
       " (2989, 0.5806305742090656),\n",
       " (2249, 0.5806206526118639),\n",
       " (3181, 0.5768155951834978),\n",
       " (2955, 0.5768155951834978),\n",
       " (2869, 0.5768155951834978),\n",
       " (2819, 0.5768155951834978),\n",
       " (2741, 0.5768155951834978),\n",
       " (2581, 0.5768155951834978),\n",
       " (2423, 0.5768155951834978),\n",
       " (2318, 0.5768155951834978),\n",
       " (2228, 0.5768155951834978),\n",
       " (2209, 0.5768155951834978),\n",
       " (2126, 0.5768155951834978),\n",
       " (2035, 0.5768155951834978),\n",
       " (1744, 0.5768155951834978),\n",
       " (1428, 0.5768155951834978),\n",
       " (1427, 0.5768155951834978),\n",
       " (728, 0.5768155951834978),\n",
       " (265, 0.5759339722599766),\n",
       " (3156, 0.5660247032111518),\n",
       " (3110, 0.5660247032111518),\n",
       " (1685, 0.5613468385706863),\n",
       " (3069, 0.5576227199583526),\n",
       " (1699, 0.5540532717260414),\n",
       " (1341, 0.551260182766791),\n",
       " (435, 0.545878081957875),\n",
       " (2840, 0.5451842493011649),\n",
       " (1845, 0.5451842493011649),\n",
       " (1570, 0.5451842493011649),\n",
       " (1271, 0.5451842493011649),\n",
       " (1088, 0.5451842493011649),\n",
       " (2893, 0.5449061301945838),\n",
       " (1929, 0.5449061301945838),\n",
       " (2820, 0.5403958776515675),\n",
       " (2402, 0.5305882999004528),\n",
       " (322, 0.5303297623142916),\n",
       " (615, 0.5296865822472274),\n",
       " (2950, 0.5214170701221678),\n",
       " (2297, 0.5214170701221678),\n",
       " (3070, 0.519134035665148),\n",
       " (2064, 0.519134035665148),\n",
       " (1695, 0.519134035665148),\n",
       " (2245, 0.5135727466132354),\n",
       " (1874, 0.513552903418832),\n",
       " (1166, 0.506606252902542),\n",
       " (1691, 0.506254928718476)]"
      ]
     },
     "execution_count": 6,
     "metadata": {},
     "output_type": "execute_result"
    }
   ],
   "source": [
    "vm.eval(query_dict[1], f=0.5)"
   ]
  },
  {
   "cell_type": "code",
   "execution_count": 7,
   "metadata": {},
   "outputs": [
    {
     "data": {
      "text/plain": [
       "([0.0,\n",
       "  0.0,\n",
       "  0.0,\n",
       "  0.25,\n",
       "  0.2,\n",
       "  0.16666666666666666,\n",
       "  0.14285714285714285,\n",
       "  0.125,\n",
       "  0.1111111111111111,\n",
       "  0.1,\n",
       "  0.18181818181818182,\n",
       "  0.16666666666666666,\n",
       "  0.15384615384615385,\n",
       "  0.14285714285714285,\n",
       "  0.13333333333333333,\n",
       "  0.125,\n",
       "  0.11764705882352941,\n",
       "  0.1111111111111111,\n",
       "  0.10526315789473684,\n",
       "  0.1,\n",
       "  0.09523809523809523,\n",
       "  0.09090909090909091,\n",
       "  0.08695652173913043,\n",
       "  0.08333333333333333,\n",
       "  0.12,\n",
       "  0.11538461538461539,\n",
       "  0.1111111111111111,\n",
       "  0.10714285714285714,\n",
       "  0.10344827586206896,\n",
       "  0.1,\n",
       "  0.0967741935483871,\n",
       "  0.09375,\n",
       "  0.09090909090909091,\n",
       "  0.08823529411764706,\n",
       "  0.08571428571428572,\n",
       "  0.08333333333333333,\n",
       "  0.08108108108108109,\n",
       "  0.07894736842105263,\n",
       "  0.07692307692307693,\n",
       "  0.075,\n",
       "  0.07317073170731707,\n",
       "  0.07142857142857142,\n",
       "  0.06976744186046512,\n",
       "  0.06818181818181818,\n",
       "  0.06666666666666667,\n",
       "  0.06521739130434782,\n",
       "  0.06382978723404255,\n",
       "  0.0625,\n",
       "  0.061224489795918366,\n",
       "  0.06,\n",
       "  0.058823529411764705,\n",
       "  0.057692307692307696,\n",
       "  0.05660377358490566,\n",
       "  0.05555555555555555,\n",
       "  0.05454545454545454,\n",
       "  0.05357142857142857,\n",
       "  0.05263157894736842,\n",
       "  0.05172413793103448,\n",
       "  0.05084745762711865,\n",
       "  0.05,\n",
       "  0.04918032786885246,\n",
       "  0.04838709677419355,\n",
       "  0.047619047619047616,\n",
       "  0.046875,\n",
       "  0.046153846153846156,\n",
       "  0.045454545454545456,\n",
       "  0.04477611940298507,\n",
       "  0.04411764705882353,\n",
       "  0.043478260869565216,\n",
       "  0.04285714285714286,\n",
       "  0.04225352112676056,\n",
       "  0.041666666666666664,\n",
       "  0.0410958904109589,\n",
       "  0.04054054054054054,\n",
       "  0.04,\n",
       "  0.039473684210526314,\n",
       "  0.03896103896103896,\n",
       "  0.038461538461538464,\n",
       "  0.0379746835443038,\n",
       "  0.0375,\n",
       "  0.037037037037037035,\n",
       "  0.036585365853658534,\n",
       "  0.03614457831325301,\n",
       "  0.03571428571428571,\n",
       "  0.03529411764705882,\n",
       "  0.03488372093023256,\n",
       "  0.034482758620689655,\n",
       "  0.03409090909090909,\n",
       "  0.033707865168539325,\n",
       "  0.03333333333333333,\n",
       "  0.03296703296703297,\n",
       "  0.03260869565217391,\n",
       "  0.03225806451612903,\n",
       "  0.031914893617021274,\n",
       "  0.031578947368421054,\n",
       "  0.041666666666666664,\n",
       "  0.041237113402061855,\n",
       "  0.04081632653061224,\n",
       "  0.04040404040404041,\n",
       "  0.04,\n",
       "  0.039603960396039604,\n",
       "  0.0392156862745098,\n",
       "  0.038834951456310676,\n",
       "  0.038461538461538464,\n",
       "  0.0380952380952381,\n",
       "  0.03773584905660377,\n",
       "  0.037383177570093455,\n",
       "  0.037037037037037035,\n",
       "  0.03669724770642202,\n",
       "  0.03636363636363636,\n",
       "  0.036036036036036036,\n",
       "  0.03571428571428571,\n",
       "  0.035398230088495575,\n",
       "  0.03508771929824561,\n",
       "  0.034782608695652174,\n",
       "  0.034482758620689655,\n",
       "  0.03418803418803419,\n",
       "  0.03389830508474576,\n",
       "  0.03361344537815126,\n",
       "  0.03333333333333333,\n",
       "  0.03305785123966942,\n",
       "  0.03278688524590164,\n",
       "  0.032520325203252036,\n",
       "  0.03225806451612903,\n",
       "  0.032,\n",
       "  0.031746031746031744,\n",
       "  0.031496062992125984,\n",
       "  0.03125,\n",
       "  0.031007751937984496,\n",
       "  0.03076923076923077,\n",
       "  0.030534351145038167,\n",
       "  0.030303030303030304,\n",
       "  0.03007518796992481,\n",
       "  0.029850746268656716,\n",
       "  0.02962962962962963,\n",
       "  0.029411764705882353,\n",
       "  0.029197080291970802,\n",
       "  0.028985507246376812,\n",
       "  0.02877697841726619,\n",
       "  0.02857142857142857,\n",
       "  0.028368794326241134,\n",
       "  0.028169014084507043,\n",
       "  0.027972027972027972,\n",
       "  0.027777777777777776,\n",
       "  0.027586206896551724,\n",
       "  0.0273972602739726,\n",
       "  0.027210884353741496,\n",
       "  0.02702702702702703,\n",
       "  0.026845637583892617,\n",
       "  0.02666666666666667,\n",
       "  0.026490066225165563,\n",
       "  0.02631578947368421,\n",
       "  0.026143790849673203,\n",
       "  0.025974025974025976,\n",
       "  0.025806451612903226,\n",
       "  0.02564102564102564,\n",
       "  0.025477707006369428,\n",
       "  0.02531645569620253,\n",
       "  0.025157232704402517,\n",
       "  0.025,\n",
       "  0.024844720496894408,\n",
       "  0.024691358024691357,\n",
       "  0.024539877300613498,\n",
       "  0.024390243902439025,\n",
       "  0.024242424242424242,\n",
       "  0.024096385542168676,\n",
       "  0.023952095808383235,\n",
       "  0.023809523809523808,\n",
       "  0.023668639053254437,\n",
       "  0.023529411764705882,\n",
       "  0.023391812865497075,\n",
       "  0.023255813953488372,\n",
       "  0.023121387283236993,\n",
       "  0.022988505747126436,\n",
       "  0.022857142857142857,\n",
       "  0.022727272727272728,\n",
       "  0.022598870056497175,\n",
       "  0.02247191011235955,\n",
       "  0.0223463687150838,\n",
       "  0.022222222222222223,\n",
       "  0.022099447513812154,\n",
       "  0.02197802197802198,\n",
       "  0.02185792349726776,\n",
       "  0.021739130434782608,\n",
       "  0.021621621621621623,\n",
       "  0.021505376344086023,\n",
       "  0.0213903743315508,\n",
       "  0.02127659574468085,\n",
       "  0.021164021164021163,\n",
       "  0.021052631578947368,\n",
       "  0.020942408376963352,\n",
       "  0.020833333333333332,\n",
       "  0.02072538860103627,\n",
       "  0.020618556701030927,\n",
       "  0.020512820512820513,\n",
       "  0.02040816326530612,\n",
       "  0.02030456852791878,\n",
       "  0.020202020202020204,\n",
       "  0.020100502512562814,\n",
       "  0.02,\n",
       "  0.01990049751243781,\n",
       "  0.019801980198019802,\n",
       "  0.019704433497536946,\n",
       "  0.0196078431372549,\n",
       "  0.01951219512195122,\n",
       "  0.019417475728155338,\n",
       "  0.01932367149758454,\n",
       "  0.019230769230769232,\n",
       "  0.019138755980861243,\n",
       "  0.01904761904761905,\n",
       "  0.018957345971563982,\n",
       "  0.018867924528301886,\n",
       "  0.018779342723004695,\n",
       "  0.018691588785046728,\n",
       "  0.018604651162790697,\n",
       "  0.018518518518518517,\n",
       "  0.018433179723502304,\n",
       "  0.01834862385321101,\n",
       "  0.0182648401826484,\n",
       "  0.01818181818181818,\n",
       "  0.01809954751131222,\n",
       "  0.018018018018018018,\n",
       "  0.017937219730941704,\n",
       "  0.017857142857142856,\n",
       "  0.017777777777777778,\n",
       "  0.017699115044247787,\n",
       "  0.01762114537444934,\n",
       "  0.017543859649122806,\n",
       "  0.017467248908296942,\n",
       "  0.017391304347826087,\n",
       "  0.017316017316017316,\n",
       "  0.017241379310344827,\n",
       "  0.017167381974248927,\n",
       "  0.017094017094017096,\n",
       "  0.01702127659574468,\n",
       "  0.01694915254237288,\n",
       "  0.016877637130801686,\n",
       "  0.01680672268907563,\n",
       "  0.016736401673640166,\n",
       "  0.016666666666666666,\n",
       "  0.016597510373443983,\n",
       "  0.01652892561983471,\n",
       "  0.01646090534979424,\n",
       "  0.01639344262295082,\n",
       "  0.0163265306122449,\n",
       "  0.016260162601626018,\n",
       "  0.016194331983805668,\n",
       "  0.016129032258064516,\n",
       "  0.01606425702811245,\n",
       "  0.016,\n",
       "  0.01593625498007968,\n",
       "  0.015873015873015872,\n",
       "  0.015810276679841896,\n",
       "  0.015748031496062992,\n",
       "  0.01568627450980392,\n",
       "  0.015625,\n",
       "  0.01556420233463035,\n",
       "  0.015503875968992248,\n",
       "  0.015444015444015444,\n",
       "  0.015384615384615385,\n",
       "  0.01532567049808429,\n",
       "  0.015267175572519083,\n",
       "  0.015209125475285171,\n",
       "  0.015151515151515152,\n",
       "  0.01509433962264151,\n",
       "  0.015037593984962405,\n",
       "  0.0149812734082397,\n",
       "  0.014925373134328358,\n",
       "  0.01486988847583643,\n",
       "  0.014814814814814815,\n",
       "  0.014760147601476014,\n",
       "  0.014705882352941176,\n",
       "  0.014652014652014652,\n",
       "  0.014598540145985401,\n",
       "  0.014545454545454545,\n",
       "  0.014492753623188406,\n",
       "  0.01444043321299639,\n",
       "  0.014388489208633094,\n",
       "  0.014336917562724014,\n",
       "  0.014285714285714285,\n",
       "  0.014234875444839857,\n",
       "  0.014184397163120567,\n",
       "  0.014134275618374558,\n",
       "  0.014084507042253521,\n",
       "  0.014035087719298246,\n",
       "  0.013986013986013986,\n",
       "  0.013937282229965157,\n",
       "  0.013888888888888888,\n",
       "  0.01384083044982699,\n",
       "  0.013793103448275862,\n",
       "  0.013745704467353952,\n",
       "  0.0136986301369863,\n",
       "  0.013651877133105802,\n",
       "  0.013605442176870748,\n",
       "  0.013559322033898305,\n",
       "  0.013513513513513514,\n",
       "  0.013468013468013467,\n",
       "  0.013422818791946308,\n",
       "  0.013377926421404682,\n",
       "  0.013333333333333334,\n",
       "  0.013289036544850499,\n",
       "  0.013245033112582781,\n",
       "  0.013201320132013201,\n",
       "  0.013157894736842105,\n",
       "  0.013114754098360656,\n",
       "  0.013071895424836602,\n",
       "  0.013029315960912053,\n",
       "  0.012987012987012988,\n",
       "  0.012944983818770227,\n",
       "  0.012903225806451613,\n",
       "  0.012861736334405145,\n",
       "  0.01282051282051282,\n",
       "  0.012779552715654952,\n",
       "  0.012738853503184714,\n",
       "  0.012698412698412698,\n",
       "  0.012658227848101266,\n",
       "  0.012618296529968454,\n",
       "  0.012578616352201259,\n",
       "  0.012539184952978056,\n",
       "  0.0125,\n",
       "  0.012461059190031152,\n",
       "  0.012422360248447204,\n",
       "  0.01238390092879257,\n",
       "  0.012345679012345678,\n",
       "  0.012307692307692308,\n",
       "  0.012269938650306749,\n",
       "  0.012232415902140673,\n",
       "  0.012195121951219513,\n",
       "  0.0121580547112462,\n",
       "  0.012121212121212121,\n",
       "  0.012084592145015106,\n",
       "  0.012048192771084338,\n",
       "  0.012012012012012012,\n",
       "  0.011976047904191617,\n",
       "  0.011940298507462687,\n",
       "  0.011904761904761904,\n",
       "  0.011869436201780416,\n",
       "  0.011834319526627219,\n",
       "  0.011799410029498525,\n",
       "  0.011764705882352941,\n",
       "  0.011730205278592375],\n",
       " [0.0,\n",
       "  0.0,\n",
       "  0.0,\n",
       "  0.2,\n",
       "  0.2,\n",
       "  0.2,\n",
       "  0.2,\n",
       "  0.2,\n",
       "  0.2,\n",
       "  0.2,\n",
       "  0.4,\n",
       "  0.4,\n",
       "  0.4,\n",
       "  0.4,\n",
       "  0.4,\n",
       "  0.4,\n",
       "  0.4,\n",
       "  0.4,\n",
       "  0.4,\n",
       "  0.4,\n",
       "  0.4,\n",
       "  0.4,\n",
       "  0.4,\n",
       "  0.4,\n",
       "  0.6,\n",
       "  0.6,\n",
       "  0.6,\n",
       "  0.6,\n",
       "  0.6,\n",
       "  0.6,\n",
       "  0.6,\n",
       "  0.6,\n",
       "  0.6,\n",
       "  0.6,\n",
       "  0.6,\n",
       "  0.6,\n",
       "  0.6,\n",
       "  0.6,\n",
       "  0.6,\n",
       "  0.6,\n",
       "  0.6,\n",
       "  0.6,\n",
       "  0.6,\n",
       "  0.6,\n",
       "  0.6,\n",
       "  0.6,\n",
       "  0.6,\n",
       "  0.6,\n",
       "  0.6,\n",
       "  0.6,\n",
       "  0.6,\n",
       "  0.6,\n",
       "  0.6,\n",
       "  0.6,\n",
       "  0.6,\n",
       "  0.6,\n",
       "  0.6,\n",
       "  0.6,\n",
       "  0.6,\n",
       "  0.6,\n",
       "  0.6,\n",
       "  0.6,\n",
       "  0.6,\n",
       "  0.6,\n",
       "  0.6,\n",
       "  0.6,\n",
       "  0.6,\n",
       "  0.6,\n",
       "  0.6,\n",
       "  0.6,\n",
       "  0.6,\n",
       "  0.6,\n",
       "  0.6,\n",
       "  0.6,\n",
       "  0.6,\n",
       "  0.6,\n",
       "  0.6,\n",
       "  0.6,\n",
       "  0.6,\n",
       "  0.6,\n",
       "  0.6,\n",
       "  0.6,\n",
       "  0.6,\n",
       "  0.6,\n",
       "  0.6,\n",
       "  0.6,\n",
       "  0.6,\n",
       "  0.6,\n",
       "  0.6,\n",
       "  0.6,\n",
       "  0.6,\n",
       "  0.6,\n",
       "  0.6,\n",
       "  0.6,\n",
       "  0.6,\n",
       "  0.8,\n",
       "  0.8,\n",
       "  0.8,\n",
       "  0.8,\n",
       "  0.8,\n",
       "  0.8,\n",
       "  0.8,\n",
       "  0.8,\n",
       "  0.8,\n",
       "  0.8,\n",
       "  0.8,\n",
       "  0.8,\n",
       "  0.8,\n",
       "  0.8,\n",
       "  0.8,\n",
       "  0.8,\n",
       "  0.8,\n",
       "  0.8,\n",
       "  0.8,\n",
       "  0.8,\n",
       "  0.8,\n",
       "  0.8,\n",
       "  0.8,\n",
       "  0.8,\n",
       "  0.8,\n",
       "  0.8,\n",
       "  0.8,\n",
       "  0.8,\n",
       "  0.8,\n",
       "  0.8,\n",
       "  0.8,\n",
       "  0.8,\n",
       "  0.8,\n",
       "  0.8,\n",
       "  0.8,\n",
       "  0.8,\n",
       "  0.8,\n",
       "  0.8,\n",
       "  0.8,\n",
       "  0.8,\n",
       "  0.8,\n",
       "  0.8,\n",
       "  0.8,\n",
       "  0.8,\n",
       "  0.8,\n",
       "  0.8,\n",
       "  0.8,\n",
       "  0.8,\n",
       "  0.8,\n",
       "  0.8,\n",
       "  0.8,\n",
       "  0.8,\n",
       "  0.8,\n",
       "  0.8,\n",
       "  0.8,\n",
       "  0.8,\n",
       "  0.8,\n",
       "  0.8,\n",
       "  0.8,\n",
       "  0.8,\n",
       "  0.8,\n",
       "  0.8,\n",
       "  0.8,\n",
       "  0.8,\n",
       "  0.8,\n",
       "  0.8,\n",
       "  0.8,\n",
       "  0.8,\n",
       "  0.8,\n",
       "  0.8,\n",
       "  0.8,\n",
       "  0.8,\n",
       "  0.8,\n",
       "  0.8,\n",
       "  0.8,\n",
       "  0.8,\n",
       "  0.8,\n",
       "  0.8,\n",
       "  0.8,\n",
       "  0.8,\n",
       "  0.8,\n",
       "  0.8,\n",
       "  0.8,\n",
       "  0.8,\n",
       "  0.8,\n",
       "  0.8,\n",
       "  0.8,\n",
       "  0.8,\n",
       "  0.8,\n",
       "  0.8,\n",
       "  0.8,\n",
       "  0.8,\n",
       "  0.8,\n",
       "  0.8,\n",
       "  0.8,\n",
       "  0.8,\n",
       "  0.8,\n",
       "  0.8,\n",
       "  0.8,\n",
       "  0.8,\n",
       "  0.8,\n",
       "  0.8,\n",
       "  0.8,\n",
       "  0.8,\n",
       "  0.8,\n",
       "  0.8,\n",
       "  0.8,\n",
       "  0.8,\n",
       "  0.8,\n",
       "  0.8,\n",
       "  0.8,\n",
       "  0.8,\n",
       "  0.8,\n",
       "  0.8,\n",
       "  0.8,\n",
       "  0.8,\n",
       "  0.8,\n",
       "  0.8,\n",
       "  0.8,\n",
       "  0.8,\n",
       "  0.8,\n",
       "  0.8,\n",
       "  0.8,\n",
       "  0.8,\n",
       "  0.8,\n",
       "  0.8,\n",
       "  0.8,\n",
       "  0.8,\n",
       "  0.8,\n",
       "  0.8,\n",
       "  0.8,\n",
       "  0.8,\n",
       "  0.8,\n",
       "  0.8,\n",
       "  0.8,\n",
       "  0.8,\n",
       "  0.8,\n",
       "  0.8,\n",
       "  0.8,\n",
       "  0.8,\n",
       "  0.8,\n",
       "  0.8,\n",
       "  0.8,\n",
       "  0.8,\n",
       "  0.8,\n",
       "  0.8,\n",
       "  0.8,\n",
       "  0.8,\n",
       "  0.8,\n",
       "  0.8,\n",
       "  0.8,\n",
       "  0.8,\n",
       "  0.8,\n",
       "  0.8,\n",
       "  0.8,\n",
       "  0.8,\n",
       "  0.8,\n",
       "  0.8,\n",
       "  0.8,\n",
       "  0.8,\n",
       "  0.8,\n",
       "  0.8,\n",
       "  0.8,\n",
       "  0.8,\n",
       "  0.8,\n",
       "  0.8,\n",
       "  0.8,\n",
       "  0.8,\n",
       "  0.8,\n",
       "  0.8,\n",
       "  0.8,\n",
       "  0.8,\n",
       "  0.8,\n",
       "  0.8,\n",
       "  0.8,\n",
       "  0.8,\n",
       "  0.8,\n",
       "  0.8,\n",
       "  0.8,\n",
       "  0.8,\n",
       "  0.8,\n",
       "  0.8,\n",
       "  0.8,\n",
       "  0.8,\n",
       "  0.8,\n",
       "  0.8,\n",
       "  0.8,\n",
       "  0.8,\n",
       "  0.8,\n",
       "  0.8,\n",
       "  0.8,\n",
       "  0.8,\n",
       "  0.8,\n",
       "  0.8,\n",
       "  0.8,\n",
       "  0.8,\n",
       "  0.8,\n",
       "  0.8,\n",
       "  0.8,\n",
       "  0.8,\n",
       "  0.8,\n",
       "  0.8,\n",
       "  0.8,\n",
       "  0.8,\n",
       "  0.8,\n",
       "  0.8,\n",
       "  0.8,\n",
       "  0.8,\n",
       "  0.8,\n",
       "  0.8,\n",
       "  0.8,\n",
       "  0.8,\n",
       "  0.8,\n",
       "  0.8,\n",
       "  0.8,\n",
       "  0.8,\n",
       "  0.8,\n",
       "  0.8,\n",
       "  0.8,\n",
       "  0.8,\n",
       "  0.8,\n",
       "  0.8,\n",
       "  0.8,\n",
       "  0.8,\n",
       "  0.8,\n",
       "  0.8,\n",
       "  0.8,\n",
       "  0.8,\n",
       "  0.8,\n",
       "  0.8,\n",
       "  0.8,\n",
       "  0.8,\n",
       "  0.8,\n",
       "  0.8,\n",
       "  0.8,\n",
       "  0.8,\n",
       "  0.8,\n",
       "  0.8,\n",
       "  0.8,\n",
       "  0.8,\n",
       "  0.8,\n",
       "  0.8,\n",
       "  0.8,\n",
       "  0.8,\n",
       "  0.8,\n",
       "  0.8])"
      ]
     },
     "execution_count": 7,
     "metadata": {},
     "output_type": "execute_result"
    }
   ],
   "source": [
    "query_id = 1\n",
    "evaluator.precision_recall_query(query_id, SimilarityFunctions.DOT, f=0.5)"
   ]
  },
  {
   "cell_type": "code",
   "execution_count": 41,
   "metadata": {},
   "outputs": [
    {
     "data": {
      "text/plain": [
       "[<matplotlib.lines.Line2D at 0x2343851fa58>]"
      ]
     },
     "execution_count": 41,
     "metadata": {},
     "output_type": "execute_result"
    },
    {
     "data": {
      "image/png": "[encoded data removed]",
      "text/plain": [
       "<Figure size 432x288 with 1 Axes>"
      ]
     },
     "metadata": {
      "needs_background": "light"
     },
     "output_type": "display_data"
    }
   ],
   "source": [
    "precision, recall = evaluator.precision_recall_query(10, SimilarityFunctions.DOT, interpolate=True, f=1.6)\n",
    "plt.plot(recall, precision)"
   ]
  },
  {
   "cell_type": "code",
   "execution_count": 27,
   "metadata": {},
   "outputs": [],
   "source": [
    "d = evaluator.precision_recall_query_all(f=0.05, interpolate=True)"
   ]
  },
  {
   "cell_type": "code",
   "execution_count": 28,
   "metadata": {},
   "outputs": [
    {
     "data": {
      "image/png": "[encoded data removed]",
      "text/plain": [
       "<Figure size 504x288 with 1 Axes>"
      ]
     },
     "metadata": {
      "needs_background": "light"
     },
     "output_type": "display_data"
    }
   ],
   "source": [
    "l = []\n",
    "plt.figure(figsize=(7,4))\n",
    "plt.grid(True)\n",
    "for sim in d:\n",
    "    p, r = d[sim]\n",
    "    plt.plot(r, p, label=str(sim).split('.')[-1])\n",
    "plt.legend()\n",
    "plt.savefig('mean_pr.png', dpi=300)"
   ]
  },
  {
   "cell_type": "code",
   "execution_count": 9,
   "metadata": {},
   "outputs": [
    {
     "data": {
      "text/html": [
       "<div>\n",
       "<style scoped>\n",
       "    .dataframe tbody tr th:only-of-type {\n",
       "        vertical-align: middle;\n",
       "    }\n",
       "\n",
       "    .dataframe tbody tr th {\n",
       "        vertical-align: top;\n",
       "    }\n",
       "\n",
       "    .dataframe thead th {\n",
       "        text-align: right;\n",
       "    }\n",
       "</style>\n",
       "<table border=\"1\" class=\"dataframe\">\n",
       "  <thead>\n",
       "    <tr style=\"text-align: right;\">\n",
       "      <th></th>\n",
       "      <th>Similarity</th>\n",
       "      <th>Recall</th>\n",
       "      <th>Precision</th>\n",
       "    </tr>\n",
       "  </thead>\n",
       "  <tbody>\n",
       "    <tr>\n",
       "      <th>0</th>\n",
       "      <td>DOT</td>\n",
       "      <td>0.0</td>\n",
       "      <td>[0.6521496193864613, 0.51115376979461, 0.39071...</td>\n",
       "    </tr>\n",
       "    <tr>\n",
       "      <th>1</th>\n",
       "      <td>DOT</td>\n",
       "      <td>0.1</td>\n",
       "      <td>[0.0, 0.09999999999999995, 0.1999999999999999,...</td>\n",
       "    </tr>\n",
       "    <tr>\n",
       "      <th>2</th>\n",
       "      <td>DICE</td>\n",
       "      <td>0.0</td>\n",
       "      <td>[0.5437381986918542, 0.3808775294531785, 0.291...</td>\n",
       "    </tr>\n",
       "    <tr>\n",
       "      <th>3</th>\n",
       "      <td>DICE</td>\n",
       "      <td>0.1</td>\n",
       "      <td>[0.0, 0.09999999999999995, 0.1999999999999999,...</td>\n",
       "    </tr>\n",
       "    <tr>\n",
       "      <th>4</th>\n",
       "      <td>COSINUS</td>\n",
       "      <td>0.0</td>\n",
       "      <td>[0.6349363559519704, 0.48230829043570606, 0.36...</td>\n",
       "    </tr>\n",
       "    <tr>\n",
       "      <th>5</th>\n",
       "      <td>COSINUS</td>\n",
       "      <td>0.1</td>\n",
       "      <td>[0.0, 0.09999999999999995, 0.1999999999999999,...</td>\n",
       "    </tr>\n",
       "    <tr>\n",
       "      <th>6</th>\n",
       "      <td>JACCARD</td>\n",
       "      <td>0.0</td>\n",
       "      <td>[0.5237918265132139, 0.3611410766654919, 0.247...</td>\n",
       "    </tr>\n",
       "    <tr>\n",
       "      <th>7</th>\n",
       "      <td>JACCARD</td>\n",
       "      <td>0.1</td>\n",
       "      <td>[0.0, 0.09999999999999995, 0.1999999999999999,...</td>\n",
       "    </tr>\n",
       "  </tbody>\n",
       "</table>\n",
       "</div>"
      ],
      "text/plain": [
       "  Similarity  Recall                                          Precision\n",
       "0        DOT     0.0  [0.6521496193864613, 0.51115376979461, 0.39071...\n",
       "1        DOT     0.1  [0.0, 0.09999999999999995, 0.1999999999999999,...\n",
       "2       DICE     0.0  [0.5437381986918542, 0.3808775294531785, 0.291...\n",
       "3       DICE     0.1  [0.0, 0.09999999999999995, 0.1999999999999999,...\n",
       "4    COSINUS     0.0  [0.6349363559519704, 0.48230829043570606, 0.36...\n",
       "5    COSINUS     0.1  [0.0, 0.09999999999999995, 0.1999999999999999,...\n",
       "6    JACCARD     0.0  [0.5237918265132139, 0.3611410766654919, 0.247...\n",
       "7    JACCARD     0.1  [0.0, 0.09999999999999995, 0.1999999999999999,..."
      ]
     },
     "execution_count": 9,
     "metadata": {},
     "output_type": "execute_result"
    }
   ],
   "source": [
    "df = pd.DataFrame(data=l, columns=['Similarity', 'Recall', 'Precision'])"
   ]
  },
  {
   "cell_type": "code",
   "execution_count": 8,
   "metadata": {},
   "outputs": [
    {
     "ename": "TypeError",
     "evalue": "unhashable type: 'numpy.ndarray'",
     "output_type": "error",
     "traceback": [
      "\u001b[1;31m---------------------------------------------------------------------------\u001b[0m",
      "\u001b[1;31mTypeError\u001b[0m                                 Traceback (most recent call last)",
      "\u001b[1;32mc:\\users\\dell\\appdata\\local\\programs\\python\\python37\\lib\\site-packages\\pandas\\core\\arrays\\categorical.py\u001b[0m in \u001b[0;36m__init__\u001b[1;34m(self, values, categories, ordered, dtype, fastpath)\u001b[0m\n\u001b[0;32m    354\u001b[0m             \u001b[1;32mtry\u001b[0m\u001b[1;33m:\u001b[0m\u001b[1;33m\u001b[0m\u001b[0m\n\u001b[1;32m--> 355\u001b[1;33m                 \u001b[0mcodes\u001b[0m\u001b[1;33m,\u001b[0m \u001b[0mcategories\u001b[0m \u001b[1;33m=\u001b[0m \u001b[0mfactorize\u001b[0m\u001b[1;33m(\u001b[0m\u001b[0mvalues\u001b[0m\u001b[1;33m,\u001b[0m \u001b[0msort\u001b[0m\u001b[1;33m=\u001b[0m\u001b[1;32mTrue\u001b[0m\u001b[1;33m)\u001b[0m\u001b[1;33m\u001b[0m\u001b[0m\n\u001b[0m\u001b[0;32m    356\u001b[0m             \u001b[1;32mexcept\u001b[0m \u001b[0mTypeError\u001b[0m\u001b[1;33m:\u001b[0m\u001b[1;33m\u001b[0m\u001b[0m\n",
      "\u001b[1;32mc:\\users\\dell\\appdata\\local\\programs\\python\\python37\\lib\\site-packages\\pandas\\core\\algorithms.py\u001b[0m in \u001b[0;36mfactorize\u001b[1;34m(values, sort, na_sentinel, size_hint)\u001b[0m\n\u001b[0;32m    635\u001b[0m         codes, uniques = _factorize_array(\n\u001b[1;32m--> 636\u001b[1;33m             \u001b[0mvalues\u001b[0m\u001b[1;33m,\u001b[0m \u001b[0mna_sentinel\u001b[0m\u001b[1;33m=\u001b[0m\u001b[0mna_sentinel\u001b[0m\u001b[1;33m,\u001b[0m \u001b[0msize_hint\u001b[0m\u001b[1;33m=\u001b[0m\u001b[0msize_hint\u001b[0m\u001b[1;33m,\u001b[0m \u001b[0mna_value\u001b[0m\u001b[1;33m=\u001b[0m\u001b[0mna_value\u001b[0m\u001b[1;33m\u001b[0m\u001b[0m\n\u001b[0m\u001b[0;32m    637\u001b[0m         )\n",
      "\u001b[1;32mc:\\users\\dell\\appdata\\local\\programs\\python\\python37\\lib\\site-packages\\pandas\\core\\algorithms.py\u001b[0m in \u001b[0;36m_factorize_array\u001b[1;34m(values, na_sentinel, size_hint, na_value)\u001b[0m\n\u001b[0;32m    483\u001b[0m     \u001b[0mtable\u001b[0m \u001b[1;33m=\u001b[0m \u001b[0mhash_klass\u001b[0m\u001b[1;33m(\u001b[0m\u001b[0msize_hint\u001b[0m \u001b[1;32mor\u001b[0m \u001b[0mlen\u001b[0m\u001b[1;33m(\u001b[0m\u001b[0mvalues\u001b[0m\u001b[1;33m)\u001b[0m\u001b[1;33m)\u001b[0m\u001b[1;33m\u001b[0m\u001b[0m\n\u001b[1;32m--> 484\u001b[1;33m     \u001b[0muniques\u001b[0m\u001b[1;33m,\u001b[0m \u001b[0mcodes\u001b[0m \u001b[1;33m=\u001b[0m \u001b[0mtable\u001b[0m\u001b[1;33m.\u001b[0m\u001b[0mfactorize\u001b[0m\u001b[1;33m(\u001b[0m\u001b[0mvalues\u001b[0m\u001b[1;33m,\u001b[0m \u001b[0mna_sentinel\u001b[0m\u001b[1;33m=\u001b[0m\u001b[0mna_sentinel\u001b[0m\u001b[1;33m,\u001b[0m \u001b[0mna_value\u001b[0m\u001b[1;33m=\u001b[0m\u001b[0mna_value\u001b[0m\u001b[1;33m)\u001b[0m\u001b[1;33m\u001b[0m\u001b[0m\n\u001b[0m\u001b[0;32m    485\u001b[0m \u001b[1;33m\u001b[0m\u001b[0m\n",
      "\u001b[1;32mpandas\\_libs\\hashtable_class_helper.pxi\u001b[0m in \u001b[0;36mpandas._libs.hashtable.PyObjectHashTable.factorize\u001b[1;34m()\u001b[0m\n",
      "\u001b[1;32mpandas\\_libs\\hashtable_class_helper.pxi\u001b[0m in \u001b[0;36mpandas._libs.hashtable.PyObjectHashTable._unique\u001b[1;34m()\u001b[0m\n",
      "\u001b[1;31mTypeError\u001b[0m: unhashable type: 'numpy.ndarray'",
      "\nDuring handling of the above exception, another exception occurred:\n",
      "\u001b[1;31mTypeError\u001b[0m                                 Traceback (most recent call last)",
      "\u001b[1;32m<ipython-input-8-f0629a1e586f>\u001b[0m in \u001b[0;36m<module>\u001b[1;34m\u001b[0m\n\u001b[1;32m----> 1\u001b[1;33m \u001b[0msns\u001b[0m\u001b[1;33m.\u001b[0m\u001b[0mlineplot\u001b[0m\u001b[1;33m(\u001b[0m\u001b[0mx\u001b[0m\u001b[1;33m=\u001b[0m\u001b[1;34m'Recall'\u001b[0m\u001b[1;33m,\u001b[0m \u001b[0my\u001b[0m\u001b[1;33m=\u001b[0m\u001b[1;34m'Precision'\u001b[0m\u001b[1;33m,\u001b[0m \u001b[0mhue\u001b[0m\u001b[1;33m=\u001b[0m\u001b[1;34m'Similarity'\u001b[0m\u001b[1;33m,\u001b[0m \u001b[0mdata\u001b[0m\u001b[1;33m=\u001b[0m\u001b[0mdf\u001b[0m\u001b[1;33m)\u001b[0m\u001b[1;33m\u001b[0m\u001b[0m\n\u001b[0m",
      "\u001b[1;32mc:\\users\\dell\\appdata\\local\\programs\\python\\python37\\lib\\site-packages\\seaborn\\relational.py\u001b[0m in \u001b[0;36mlineplot\u001b[1;34m(x, y, hue, size, style, data, palette, hue_order, hue_norm, sizes, size_order, size_norm, dashes, markers, style_order, units, estimator, ci, n_boot, seed, sort, err_style, err_kws, legend, ax, **kwargs)\u001b[0m\n\u001b[0;32m   1130\u001b[0m         \u001b[0max\u001b[0m \u001b[1;33m=\u001b[0m \u001b[0mplt\u001b[0m\u001b[1;33m.\u001b[0m\u001b[0mgca\u001b[0m\u001b[1;33m(\u001b[0m\u001b[1;33m)\u001b[0m\u001b[1;33m\u001b[0m\u001b[0m\n\u001b[0;32m   1131\u001b[0m \u001b[1;33m\u001b[0m\u001b[0m\n\u001b[1;32m-> 1132\u001b[1;33m     \u001b[0mp\u001b[0m\u001b[1;33m.\u001b[0m\u001b[0mplot\u001b[0m\u001b[1;33m(\u001b[0m\u001b[0max\u001b[0m\u001b[1;33m,\u001b[0m \u001b[0mkwargs\u001b[0m\u001b[1;33m)\u001b[0m\u001b[1;33m\u001b[0m\u001b[0m\n\u001b[0m\u001b[0;32m   1133\u001b[0m     \u001b[1;32mreturn\u001b[0m \u001b[0max\u001b[0m\u001b[1;33m\u001b[0m\u001b[0m\n\u001b[0;32m   1134\u001b[0m \u001b[1;33m\u001b[0m\u001b[0m\n",
      "\u001b[1;32mc:\\users\\dell\\appdata\\local\\programs\\python\\python37\\lib\\site-packages\\seaborn\\relational.py\u001b[0m in \u001b[0;36mplot\u001b[1;34m(self, ax, kws)\u001b[0m\n\u001b[0;32m    798\u001b[0m         \u001b[1;31m# Loop over the semantic subsets and draw a line for each\u001b[0m\u001b[1;33m\u001b[0m\u001b[1;33m\u001b[0m\u001b[0m\n\u001b[0;32m    799\u001b[0m \u001b[1;33m\u001b[0m\u001b[0m\n\u001b[1;32m--> 800\u001b[1;33m         \u001b[1;32mfor\u001b[0m \u001b[0msemantics\u001b[0m\u001b[1;33m,\u001b[0m \u001b[0mdata\u001b[0m \u001b[1;32min\u001b[0m \u001b[0mself\u001b[0m\u001b[1;33m.\u001b[0m\u001b[0msubset_data\u001b[0m\u001b[1;33m(\u001b[0m\u001b[1;33m)\u001b[0m\u001b[1;33m:\u001b[0m\u001b[1;33m\u001b[0m\u001b[0m\n\u001b[0m\u001b[0;32m    801\u001b[0m \u001b[1;33m\u001b[0m\u001b[0m\n\u001b[0;32m    802\u001b[0m             \u001b[0mhue\u001b[0m\u001b[1;33m,\u001b[0m \u001b[0msize\u001b[0m\u001b[1;33m,\u001b[0m \u001b[0mstyle\u001b[0m \u001b[1;33m=\u001b[0m \u001b[0msemantics\u001b[0m\u001b[1;33m\u001b[0m\u001b[0m\n",
      "\u001b[1;32mc:\\users\\dell\\appdata\\local\\programs\\python\\python37\\lib\\site-packages\\seaborn\\relational.py\u001b[0m in \u001b[0;36msubset_data\u001b[1;34m(self)\u001b[0m\n\u001b[0;32m    329\u001b[0m \u001b[1;33m\u001b[0m\u001b[0m\n\u001b[0;32m    330\u001b[0m             \u001b[1;32mif\u001b[0m \u001b[0mself\u001b[0m\u001b[1;33m.\u001b[0m\u001b[0msort\u001b[0m\u001b[1;33m:\u001b[0m\u001b[1;33m\u001b[0m\u001b[0m\n\u001b[1;32m--> 331\u001b[1;33m                 \u001b[0msubset_data\u001b[0m \u001b[1;33m=\u001b[0m \u001b[0msubset_data\u001b[0m\u001b[1;33m.\u001b[0m\u001b[0msort_values\u001b[0m\u001b[1;33m(\u001b[0m\u001b[1;33m[\u001b[0m\u001b[1;34m\"units\"\u001b[0m\u001b[1;33m,\u001b[0m \u001b[1;34m\"x\"\u001b[0m\u001b[1;33m,\u001b[0m \u001b[1;34m\"y\"\u001b[0m\u001b[1;33m]\u001b[0m\u001b[1;33m)\u001b[0m\u001b[1;33m\u001b[0m\u001b[0m\n\u001b[0m\u001b[0;32m    332\u001b[0m \u001b[1;33m\u001b[0m\u001b[0m\n\u001b[0;32m    333\u001b[0m             \u001b[1;32mif\u001b[0m \u001b[0mself\u001b[0m\u001b[1;33m.\u001b[0m\u001b[0munits\u001b[0m \u001b[1;32mis\u001b[0m \u001b[1;32mNone\u001b[0m\u001b[1;33m:\u001b[0m\u001b[1;33m\u001b[0m\u001b[0m\n",
      "\u001b[1;32mc:\\users\\dell\\appdata\\local\\programs\\python\\python37\\lib\\site-packages\\pandas\\core\\frame.py\u001b[0m in \u001b[0;36msort_values\u001b[1;34m(self, by, axis, ascending, inplace, kind, na_position, ignore_index)\u001b[0m\n\u001b[0;32m   4919\u001b[0m \u001b[1;33m\u001b[0m\u001b[0m\n\u001b[0;32m   4920\u001b[0m             \u001b[0mkeys\u001b[0m \u001b[1;33m=\u001b[0m \u001b[1;33m[\u001b[0m\u001b[0mself\u001b[0m\u001b[1;33m.\u001b[0m\u001b[0m_get_label_or_level_values\u001b[0m\u001b[1;33m(\u001b[0m\u001b[0mx\u001b[0m\u001b[1;33m,\u001b[0m \u001b[0maxis\u001b[0m\u001b[1;33m=\u001b[0m\u001b[0maxis\u001b[0m\u001b[1;33m)\u001b[0m \u001b[1;32mfor\u001b[0m \u001b[0mx\u001b[0m \u001b[1;32min\u001b[0m \u001b[0mby\u001b[0m\u001b[1;33m]\u001b[0m\u001b[1;33m\u001b[0m\u001b[0m\n\u001b[1;32m-> 4921\u001b[1;33m             \u001b[0mindexer\u001b[0m \u001b[1;33m=\u001b[0m \u001b[0mlexsort_indexer\u001b[0m\u001b[1;33m(\u001b[0m\u001b[0mkeys\u001b[0m\u001b[1;33m,\u001b[0m \u001b[0morders\u001b[0m\u001b[1;33m=\u001b[0m\u001b[0mascending\u001b[0m\u001b[1;33m,\u001b[0m \u001b[0mna_position\u001b[0m\u001b[1;33m=\u001b[0m\u001b[0mna_position\u001b[0m\u001b[1;33m)\u001b[0m\u001b[1;33m\u001b[0m\u001b[0m\n\u001b[0m\u001b[0;32m   4922\u001b[0m             \u001b[0mindexer\u001b[0m \u001b[1;33m=\u001b[0m \u001b[0mensure_platform_int\u001b[0m\u001b[1;33m(\u001b[0m\u001b[0mindexer\u001b[0m\u001b[1;33m)\u001b[0m\u001b[1;33m\u001b[0m\u001b[0m\n\u001b[0;32m   4923\u001b[0m         \u001b[1;32melse\u001b[0m\u001b[1;33m:\u001b[0m\u001b[1;33m\u001b[0m\u001b[0m\n",
      "\u001b[1;32mc:\\users\\dell\\appdata\\local\\programs\\python\\python37\\lib\\site-packages\\pandas\\core\\sorting.py\u001b[0m in \u001b[0;36mlexsort_indexer\u001b[1;34m(keys, orders, na_position)\u001b[0m\n\u001b[0;32m    213\u001b[0m         \u001b[1;31m# create the Categorical\u001b[0m\u001b[1;33m\u001b[0m\u001b[1;33m\u001b[0m\u001b[0m\n\u001b[0;32m    214\u001b[0m         \u001b[1;32melse\u001b[0m\u001b[1;33m:\u001b[0m\u001b[1;33m\u001b[0m\u001b[0m\n\u001b[1;32m--> 215\u001b[1;33m             \u001b[0mcat\u001b[0m \u001b[1;33m=\u001b[0m \u001b[0mCategorical\u001b[0m\u001b[1;33m(\u001b[0m\u001b[0mkey\u001b[0m\u001b[1;33m,\u001b[0m \u001b[0mordered\u001b[0m\u001b[1;33m=\u001b[0m\u001b[1;32mTrue\u001b[0m\u001b[1;33m)\u001b[0m\u001b[1;33m\u001b[0m\u001b[0m\n\u001b[0m\u001b[0;32m    216\u001b[0m \u001b[1;33m\u001b[0m\u001b[0m\n\u001b[0;32m    217\u001b[0m         \u001b[1;32mif\u001b[0m \u001b[0mna_position\u001b[0m \u001b[1;32mnot\u001b[0m \u001b[1;32min\u001b[0m \u001b[1;33m[\u001b[0m\u001b[1;34m\"last\"\u001b[0m\u001b[1;33m,\u001b[0m \u001b[1;34m\"first\"\u001b[0m\u001b[1;33m]\u001b[0m\u001b[1;33m:\u001b[0m\u001b[1;33m\u001b[0m\u001b[0m\n",
      "\u001b[1;32mc:\\users\\dell\\appdata\\local\\programs\\python\\python37\\lib\\site-packages\\pandas\\core\\arrays\\categorical.py\u001b[0m in \u001b[0;36m__init__\u001b[1;34m(self, values, categories, ordered, dtype, fastpath)\u001b[0m\n\u001b[0;32m    355\u001b[0m                 \u001b[0mcodes\u001b[0m\u001b[1;33m,\u001b[0m \u001b[0mcategories\u001b[0m \u001b[1;33m=\u001b[0m \u001b[0mfactorize\u001b[0m\u001b[1;33m(\u001b[0m\u001b[0mvalues\u001b[0m\u001b[1;33m,\u001b[0m \u001b[0msort\u001b[0m\u001b[1;33m=\u001b[0m\u001b[1;32mTrue\u001b[0m\u001b[1;33m)\u001b[0m\u001b[1;33m\u001b[0m\u001b[0m\n\u001b[0;32m    356\u001b[0m             \u001b[1;32mexcept\u001b[0m \u001b[0mTypeError\u001b[0m\u001b[1;33m:\u001b[0m\u001b[1;33m\u001b[0m\u001b[0m\n\u001b[1;32m--> 357\u001b[1;33m                 \u001b[0mcodes\u001b[0m\u001b[1;33m,\u001b[0m \u001b[0mcategories\u001b[0m \u001b[1;33m=\u001b[0m \u001b[0mfactorize\u001b[0m\u001b[1;33m(\u001b[0m\u001b[0mvalues\u001b[0m\u001b[1;33m,\u001b[0m \u001b[0msort\u001b[0m\u001b[1;33m=\u001b[0m\u001b[1;32mFalse\u001b[0m\u001b[1;33m)\u001b[0m\u001b[1;33m\u001b[0m\u001b[0m\n\u001b[0m\u001b[0;32m    358\u001b[0m                 \u001b[1;32mif\u001b[0m \u001b[0mdtype\u001b[0m\u001b[1;33m.\u001b[0m\u001b[0mordered\u001b[0m\u001b[1;33m:\u001b[0m\u001b[1;33m\u001b[0m\u001b[0m\n\u001b[0;32m    359\u001b[0m                     \u001b[1;31m# raise, as we don't have a sortable data structure and so\u001b[0m\u001b[1;33m\u001b[0m\u001b[1;33m\u001b[0m\u001b[0m\n",
      "\u001b[1;32mc:\\users\\dell\\appdata\\local\\programs\\python\\python37\\lib\\site-packages\\pandas\\core\\algorithms.py\u001b[0m in \u001b[0;36mfactorize\u001b[1;34m(values, sort, na_sentinel, size_hint)\u001b[0m\n\u001b[0;32m    634\u001b[0m \u001b[1;33m\u001b[0m\u001b[0m\n\u001b[0;32m    635\u001b[0m         codes, uniques = _factorize_array(\n\u001b[1;32m--> 636\u001b[1;33m             \u001b[0mvalues\u001b[0m\u001b[1;33m,\u001b[0m \u001b[0mna_sentinel\u001b[0m\u001b[1;33m=\u001b[0m\u001b[0mna_sentinel\u001b[0m\u001b[1;33m,\u001b[0m \u001b[0msize_hint\u001b[0m\u001b[1;33m=\u001b[0m\u001b[0msize_hint\u001b[0m\u001b[1;33m,\u001b[0m \u001b[0mna_value\u001b[0m\u001b[1;33m=\u001b[0m\u001b[0mna_value\u001b[0m\u001b[1;33m\u001b[0m\u001b[0m\n\u001b[0m\u001b[0;32m    637\u001b[0m         )\n\u001b[0;32m    638\u001b[0m \u001b[1;33m\u001b[0m\u001b[0m\n",
      "\u001b[1;32mc:\\users\\dell\\appdata\\local\\programs\\python\\python37\\lib\\site-packages\\pandas\\core\\algorithms.py\u001b[0m in \u001b[0;36m_factorize_array\u001b[1;34m(values, na_sentinel, size_hint, na_value)\u001b[0m\n\u001b[0;32m    482\u001b[0m \u001b[1;33m\u001b[0m\u001b[0m\n\u001b[0;32m    483\u001b[0m     \u001b[0mtable\u001b[0m \u001b[1;33m=\u001b[0m \u001b[0mhash_klass\u001b[0m\u001b[1;33m(\u001b[0m\u001b[0msize_hint\u001b[0m \u001b[1;32mor\u001b[0m \u001b[0mlen\u001b[0m\u001b[1;33m(\u001b[0m\u001b[0mvalues\u001b[0m\u001b[1;33m)\u001b[0m\u001b[1;33m)\u001b[0m\u001b[1;33m\u001b[0m\u001b[0m\n\u001b[1;32m--> 484\u001b[1;33m     \u001b[0muniques\u001b[0m\u001b[1;33m,\u001b[0m \u001b[0mcodes\u001b[0m \u001b[1;33m=\u001b[0m \u001b[0mtable\u001b[0m\u001b[1;33m.\u001b[0m\u001b[0mfactorize\u001b[0m\u001b[1;33m(\u001b[0m\u001b[0mvalues\u001b[0m\u001b[1;33m,\u001b[0m \u001b[0mna_sentinel\u001b[0m\u001b[1;33m=\u001b[0m\u001b[0mna_sentinel\u001b[0m\u001b[1;33m,\u001b[0m \u001b[0mna_value\u001b[0m\u001b[1;33m=\u001b[0m\u001b[0mna_value\u001b[0m\u001b[1;33m)\u001b[0m\u001b[1;33m\u001b[0m\u001b[0m\n\u001b[0m\u001b[0;32m    485\u001b[0m \u001b[1;33m\u001b[0m\u001b[0m\n\u001b[0;32m    486\u001b[0m     \u001b[0mcodes\u001b[0m \u001b[1;33m=\u001b[0m \u001b[0mensure_platform_int\u001b[0m\u001b[1;33m(\u001b[0m\u001b[0mcodes\u001b[0m\u001b[1;33m)\u001b[0m\u001b[1;33m\u001b[0m\u001b[0m\n",
      "\u001b[1;32mpandas\\_libs\\hashtable_class_helper.pxi\u001b[0m in \u001b[0;36mpandas._libs.hashtable.PyObjectHashTable.factorize\u001b[1;34m()\u001b[0m\n",
      "\u001b[1;32mpandas\\_libs\\hashtable_class_helper.pxi\u001b[0m in \u001b[0;36mpandas._libs.hashtable.PyObjectHashTable._unique\u001b[1;34m()\u001b[0m\n",
      "\u001b[1;31mTypeError\u001b[0m: unhashable type: 'numpy.ndarray'"
     ]
    },
    {
     "data": {
      "image/png": "[encoded data removed]",
      "text/plain": [
       "<Figure size 432x288 with 1 Axes>"
      ]
     },
     "metadata": {
      "needs_background": "light"
     },
     "output_type": "display_data"
    }
   ],
   "source": [
    "sns.lineplot(x='Recall', y='Precision', hue='Similarity', data=df)"
   ]
  },
  {
   "cell_type": "code",
   "execution_count": 17,
   "metadata": {},
   "outputs": [
    {
     "data": {
      "text/plain": [
       "<matplotlib.axes._subplots.AxesSubplot at 0x215e969da20>"
      ]
     },
     "execution_count": 17,
     "metadata": {},
     "output_type": "execute_result"
    },
    {
     "data": {
      "image/png": "[encoded data removed]",
      "text/plain": [
       "<Figure size 432x288 with 1 Axes>"
      ]
     },
     "metadata": {
      "needs_background": "light"
     },
     "output_type": "display_data"
    }
   ],
   "source": [
    "sns.lineplot(x='Recall', y='Precision', hue='Similarity', data=df)"
   ]
  },
  {
   "cell_type": "code",
   "execution_count": 20,
   "metadata": {},
   "outputs": [
    {
     "data": {
      "text/plain": [
       "[<matplotlib.lines.Line2D at 0x199ef77a748>]"
      ]
     },
     "execution_count": 20,
     "metadata": {},
     "output_type": "execute_result"
    },
    {
     "data": {
      "image/png": "[encoded data removed]",
      "text/plain": [
       "<Figure size 432x288 with 1 Axes>"
      ]
     },
     "metadata": {
      "needs_background": "light"
     },
     "output_type": "display_data"
    }
   ],
   "source": [
    "res = vm.eval(query_dict[3], k=-1)\n",
    "l = np.array([x for _,x in res])\n",
    "plt.plot(np.log(l))"
   ]
  },
  {
   "cell_type": "code",
   "execution_count": 32,
   "metadata": {},
   "outputs": [],
   "source": [
    "d = evaluator.precision_recall_k('k', range(1,51), sims=[SimilarityFunctions.DOT])"
   ]
  },
  {
   "cell_type": "code",
   "execution_count": 42,
   "metadata": {
    "scrolled": true
   },
   "outputs": [
    {
     "data": {
      "text/plain": [
       "<matplotlib.legend.Legend at 0x1e39d60f940>"
      ]
     },
     "execution_count": 42,
     "metadata": {},
     "output_type": "execute_result"
    },
    {
     "data": {
      "image/png": "[encoded data removed]",
      "text/plain": [
       "<Figure size 432x288 with 1 Axes>"
      ]
     },
     "metadata": {
      "needs_background": "light"
     },
     "output_type": "display_data"
    }
   ],
   "source": [
    "plt.plot(np.arange(1, 51, 1), d[SimilarityFunctions.DOT]['f1_score'], label=\"f1_score\")\n",
    "plt.plot(np.arange(1, 51, 1), d[SimilarityFunctions.DOT]['mean_precision'], label=\"precision\")\n",
    "plt.plot(np.arange(1, 51, 1), d[SimilarityFunctions.DOT]['mean_recall'], label='recall')\n",
    "plt.legend()"
   ]
  },
  {
   "cell_type": "code",
   "execution_count": 35,
   "metadata": {},
   "outputs": [
    {
     "data": {
      "text/plain": [
       "{<SimilarityFunctions.DOT: 1>: {'mean_precision': [0.4807692307692308,\n",
       "   0.41346153846153844,\n",
       "   0.3525641025641026,\n",
       "   0.34615384615384615,\n",
       "   0.33076923076923076,\n",
       "   0.3108974358974359,\n",
       "   0.29670329670329665,\n",
       "   0.28125,\n",
       "   0.2670940170940171,\n",
       "   0.2653846153846154,\n",
       "   0.2534965034965035,\n",
       "   0.2419871794871795,\n",
       "   0.22928994082840234,\n",
       "   0.2266483516483516,\n",
       "   0.21666666666666665,\n",
       "   0.20552884615384615,\n",
       "   0.19570135746606335,\n",
       "   0.18910256410256407,\n",
       "   0.1852226720647773,\n",
       "   0.17980769230769234,\n",
       "   0.17216117216117213,\n",
       "   0.16783216783216778,\n",
       "   0.16220735785953175,\n",
       "   0.15865384615384615,\n",
       "   0.15615384615384614,\n",
       "   0.15310650887573965,\n",
       "   0.1495726495726496,\n",
       "   0.14423076923076922,\n",
       "   0.14190981432360744,\n",
       "   0.13974358974358975,\n",
       "   0.13709677419354838,\n",
       "   0.13521634615384615,\n",
       "   0.13170163170163168,\n",
       "   0.12952488687782807,\n",
       "   0.12692307692307694,\n",
       "   0.12446581196581197,\n",
       "   0.12266112266112267,\n",
       "   0.12095141700404857,\n",
       "   0.11932938856015778,\n",
       "   0.11682692307692308,\n",
       "   0.11585365853658537,\n",
       "   0.11401098901098898,\n",
       "   0.11225402504472273,\n",
       "   0.1097027972027972,\n",
       "   0.1098290598290598,\n",
       "   0.10911371237458194,\n",
       "   0.1072013093289689,\n",
       "   0.10536858974358974,\n",
       "   0.10400313971742542,\n",
       "   0.10269230769230765],\n",
       "  'mean_recall': [0.04484942350890812,\n",
       "   0.08956164652400087,\n",
       "   0.10588631779789838,\n",
       "   0.13141380602369845,\n",
       "   0.1720961828525331,\n",
       "   0.20696290247144306,\n",
       "   0.22574857338276524,\n",
       "   0.23326764603205957,\n",
       "   0.24978227542665177,\n",
       "   0.2878521163362493,\n",
       "   0.30305736065333566,\n",
       "   0.3091375005356253,\n",
       "   0.31413194134932954,\n",
       "   0.3240482272323034,\n",
       "   0.32730046531696283,\n",
       "   0.328660457681918,\n",
       "   0.3299439350499337,\n",
       "   0.3354780892032739,\n",
       "   0.34341612068026034,\n",
       "   0.34699184603017924,\n",
       "   0.34770409674242997,\n",
       "   0.3520960971093856,\n",
       "   0.3591473791606677,\n",
       "   0.3634760613144273,\n",
       "   0.37102211736737745,\n",
       "   0.37743990934551425,\n",
       "   0.3807940425620763,\n",
       "   0.3807940425620763,\n",
       "   0.38581864758668133,\n",
       "   0.39069053176891033,\n",
       "   0.3938719767607001,\n",
       "   0.39760749730656547,\n",
       "   0.39807654045853547,\n",
       "   0.40270329810948663,\n",
       "   0.40387309605347826,\n",
       "   0.41509104477142694,\n",
       "   0.4187863690549865,\n",
       "   0.42061787088648833,\n",
       "   0.42428341830203575,\n",
       "   0.42541464002149276,\n",
       "   0.4282972445468634,\n",
       "   0.4319030137776326,\n",
       "   0.4330728117216242,\n",
       "   0.4330728117216242,\n",
       "   0.43967846382146225,\n",
       "   0.4436462560436215,\n",
       "   0.4446077945051601,\n",
       "   0.44653087142823694,\n",
       "   0.44902230711805324,\n",
       "   0.4501323759110488],\n",
       "  'f1_score': [0.08204512022288785,\n",
       "   0.14723097170968938,\n",
       "   0.16286042263307596,\n",
       "   0.19050450416983927,\n",
       "   0.2263990343279779,\n",
       "   0.2485003424163736,\n",
       "   0.25640771823708497,\n",
       "   0.2550214786702527,\n",
       "   0.2581482351114829,\n",
       "   0.2761621519378305,\n",
       "   0.2760702466843941,\n",
       "   0.27147146386272153,\n",
       "   0.26508794219199894,\n",
       "   0.26673489312774096,\n",
       "   0.2607330356894043,\n",
       "   0.25290362108982817,\n",
       "   0.24568079233774012,\n",
       "   0.24186849617414896,\n",
       "   0.24064995749638896,\n",
       "   0.23687113804665716,\n",
       "   0.23029484153332933,\n",
       "   0.22731232459445713,\n",
       "   0.22348064885260752,\n",
       "   0.22089090966653407,\n",
       "   0.219799591195615,\n",
       "   0.21784524349071296,\n",
       "   0.21478111175587083,\n",
       "   0.20921760817236468,\n",
       "   0.20749857774742783,\n",
       "   0.2058559024541671,\n",
       "   0.20339644230317838,\n",
       "   0.20180415591016457,\n",
       "   0.19792181964295594,\n",
       "   0.1960065272913073,\n",
       "   0.1931468938447716,\n",
       "   0.19150769110649354,\n",
       "   0.18974621535561012,\n",
       "   0.18787744666654557,\n",
       "   0.1862703756905058,\n",
       "   0.18331270344382442,\n",
       "   0.18237515527667228,\n",
       "   0.18040090382763502,\n",
       "   0.17829368729203812,\n",
       "   0.1750605519378006,\n",
       "   0.1757554545852144,\n",
       "   0.17514976750769237,\n",
       "   0.172750095558936,\n",
       "   0.17050325832704885,\n",
       "   0.16888817688467941,\n",
       "   0.16723251989411084]}}"
      ]
     },
     "execution_count": 35,
     "metadata": {},
     "output_type": "execute_result"
    }
   ],
   "source": [
    "d"
   ]
  },
  {
   "cell_type": "code",
   "execution_count": 43,
   "metadata": {},
   "outputs": [
    {
     "data": {
      "text/plain": [
       "3.169925001442312"
      ]
     },
     "execution_count": 43,
     "metadata": {},
     "output_type": "execute_result"
    }
   ],
   "source": [
    "np.log2(9)"
   ]
  },
  {
   "cell_type": "code",
   "execution_count": null,
   "metadata": {},
   "outputs": [],
   "source": []
  }
 ],
 "metadata": {
  "kernelspec": {
   "display_name": "Python 3",
   "language": "python",
   "name": "python3"
  },
  "language_info": {
   "codemirror_mode": {
    "name": "ipython",
    "version": 3
   },
   "file_extension": ".py",
   "mimetype": "text/x-python",
   "name": "python",
   "nbconvert_exporter": "python",
   "pygments_lexer": "ipython3",
   "version": "3.7.0"
  }
 },
 "nbformat": 4,
 "nbformat_minor": 4
}
